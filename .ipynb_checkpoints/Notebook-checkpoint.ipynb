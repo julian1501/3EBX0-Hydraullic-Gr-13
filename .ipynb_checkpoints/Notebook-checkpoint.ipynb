{
 "cells": [
  {
   "cell_type": "code",
   "execution_count": 62,
   "id": "56fdfbef",
   "metadata": {},
   "outputs": [
    {
     "name": "stdout",
     "output_type": "stream",
     "text": [
      "using device: cpu\n"
     ]
    }
   ],
   "source": [
    "import pandas as pd\n",
    "import numpy as np\n",
    "import matplotlib.pyplot as plt\n",
    "import seaborn as sns\n",
    "import math\n",
    "import random\n",
    "import torch\n",
    "from torch import manual_seed, nn, no_grad, optim\n",
    "from torch.utils.data import DataLoader, Dataset, Subset, random_split\n",
    "from torch import (cuda, float32, manual_seed, nn, no_grad, optim,\n",
    "                   set_default_device, tensor)\n",
    "import torch.nn.functional as F\n",
    "from torch.utils.data import DataLoader, Dataset\n",
    "from tqdm import tqdm\n",
    "from statistics import mean, stdev\n",
    "\n",
    "device = torch.device(\"cuda\" if torch.cuda.is_available() else \"cpu\")\n",
    "print(f\"using device: {device}\")\n",
    "\n",
    "# set random seed for reproducibility\n",
    "#torch.manual_seed(234);"
   ]
  },
  {
   "cell_type": "code",
   "execution_count": 142,
   "id": "834b5d77",
   "metadata": {},
   "outputs": [],
   "source": [
    "class HydraullicDataset(Dataset):\n",
    "    def __init__(self, train_input, train_output, device='cpu'):\n",
    "        self.input = torch.tensor(train_input, dtype=torch.float32).unsqueeze(1).to(device)#**2\n",
    "        self.output = torch.tensor(train_output, dtype=torch.float32).to(device)\n",
    "\n",
    "    def __len__(self):\n",
    "        # Return the total number of samples in the dataset\n",
    "        return self.input.shape[0]\n",
    "\n",
    "    def __getitem__(self, idx):\n",
    "        # Retrieve the input and corresponding output by index\n",
    "        input_ = self.input[idx]\n",
    "        output_ = self.output[idx]\n",
    "        return input_, output_\n",
    "\n",
    "def square_plot(data):\n",
    "    '''Creates a square plot of the input array as seen in the assignment description, assert statements check\n",
    "    whether the data is length 40.'''\n",
    "    assert len(data) == 40, 'Top level array length is not 40'\n",
    "    assert len(data[0]) == 40, 'Bottom level array length is not 40'\n",
    "    plt.imshow(data, cmap='gray')\n",
    "    plt.xlabel('x')\n",
    "    plt.ylabel('y')\n",
    "    plt.colorbar()\n",
    "    return plt\n",
    "    \n",
    "def load_data(train_input, train_output, test_input):\n",
    "    '''Loads the training and the test data from the directory.\n",
    "    Returns in the following order:\n",
    "     1. Training input\n",
    "     2. Training output\n",
    "     3. Testing input'''\n",
    "    input_train_data  = np.load(train_input)\n",
    "    output_train_data =   np.load(train_output)\n",
    "    input_test_data   =    np.load(test_input)\n",
    "    return input_train_data, output_train_data, input_test_data\n",
    "\n",
    "def disp_datarow(DataRow):\n",
    "    '''Displays the square plot with the corresponding S value.'''\n",
    "    plot = square_plot(DataRow[0][0])\n",
    "    plot.title(f'Output S = {DataRow[1]:.3f}[m^4]')\n",
    "    \n",
    "def plot_losses(loss):\n",
    "    plt.semilogy(loss['train'], label=\"train\", marker=\".\", lw=2)\n",
    "    plt.semilogy(loss['val'], label=\"val\", marker=\".\", lw=2)\n",
    "    plt.legend()\n",
    "    plt.show()\n",
    "    \n",
    "def rmspe ( ypred , ytrue ):\n",
    "    return (((ytrue - ypred ) / ytrue )**2).mean().sqrt()"
   ]
  },
  {
   "cell_type": "code",
   "execution_count": 111,
   "id": "a3ecca94",
   "metadata": {},
   "outputs": [],
   "source": [
    "in_train_data, out_train_data, in_test_data = load_data(\n",
    "    'pub_input.npy', 'pub_out.npy', 'pri_in.npy'\n",
    ")\n",
    "train_dataset = HydraullicDataset(in_train_data,out_train_data)\n",
    "\n",
    "### COPIED FROM LAB 8 SOLUTIONS\n",
    "# split the data into training and validation sets\n",
    "train_size = int(0.8 * len(train_dataset))\n",
    "val_size = len(train_dataset) - train_size\n",
    "train_data, val_data = torch.utils.data.random_split(train_dataset, [train_size, val_size])\n",
    "\n"
   ]
  },
  {
   "cell_type": "code",
   "execution_count": 67,
   "id": "9de4a874",
   "metadata": {},
   "outputs": [
    {
     "ename": "TypeError",
     "evalue": "'DataLoader' object is not subscriptable",
     "output_type": "error",
     "traceback": [
      "\u001b[1;31m---------------------------------------------------------------------------\u001b[0m",
      "\u001b[1;31mTypeError\u001b[0m                                 Traceback (most recent call last)",
      "Cell \u001b[1;32mIn[67], line 1\u001b[0m\n\u001b[1;32m----> 1\u001b[0m train_loader[\u001b[38;5;241m0\u001b[39m]\n",
      "\u001b[1;31mTypeError\u001b[0m: 'DataLoader' object is not subscriptable"
     ]
    }
   ],
   "source": []
  },
  {
   "cell_type": "code",
   "execution_count": 180,
   "id": "83c00006",
   "metadata": {},
   "outputs": [],
   "source": [
    "class HydraullicModel(nn.Module):\n",
    "    \n",
    "    width = 256\n",
    "    \n",
    "    def __init__(self, width=width):\n",
    "        super(HydraullicModel, self).__init__()\n",
    "        ksize = 5\n",
    "        # Define the convolutional layers\n",
    "        self.conv1 = nn.Conv2d(in_channels=1, out_channels=16, kernel_size=ksize, stride=1, padding=ksize//2, bias=False)\n",
    "        self.conv2 = nn.Conv2d(in_channels=16, out_channels=32, kernel_size=ksize, stride=1, padding=ksize//2, bias=False)\n",
    "        self.conv3 = nn.Conv2d(in_channels=32, out_channels=64, kernel_size=ksize, stride=1, padding=ksize//2, bias=False)\n",
    "        self.conv4 = nn.Conv2d(in_channels=64, out_channels=32, kernel_size=ksize, stride=1, padding=ksize//2, bias=False)\n",
    "        self.conv5 = nn.Conv2d(in_channels=32, out_channels=32, kernel_size=ksize, stride=1, padding=ksize//2, bias=False)\n",
    "        self.conv6 = nn.Conv2d(in_channels=32, out_channels=16, kernel_size=ksize, stride=1, padding=ksize//2, bias=False)\n",
    "        \n",
    "        # Pooling layer\n",
    "        self.maxpool = nn.MaxPool2d(kernel_size=2, stride=2)\n",
    "        \n",
    "        # Flatten layer\n",
    "        self.flatten = nn.Flatten()\n",
    "        \n",
    "        # Linear Layer\n",
    "        self.fc1 = nn.Linear(400,1,bias=False)\n",
    "        \n",
    "\n",
    "      \n",
    "    def forward(self, x, width=width):         \n",
    "        x = F.relu(self.conv1(x))  \n",
    "        x = F.relu(self.conv2(x)) \n",
    "        x = self.maxpool(x)\n",
    "        x = F.relu(self.conv3(x))\n",
    "        x = F.relu(self.conv4(x))\n",
    "        x = self.maxpool(x)\n",
    "        x = F.relu(self.conv5(x))   \n",
    "        x = F.relu(self.conv6(x))\n",
    "        x = self.maxpool(x)\n",
    "       \n",
    "        x = self.flatten(x)\n",
    "        x = self.fc1(x)\n",
    "        \n",
    "        return x"
   ]
  },
  {
   "cell_type": "code",
   "execution_count": 176,
   "id": "084842da",
   "metadata": {},
   "outputs": [],
   "source": [
    "def train_model(train_loader,\n",
    "                val_loader, \n",
    "                model,\n",
    "                nepochs=1,\n",
    "                lr=1e-6,\n",
    "                loss_fn=rmspe,\n",
    "                batch_size = 32,\n",
    "                plot_result=True):\n",
    "    optimizer = torch.optim.Adam(model.parameters(), lr=lr)\n",
    "\n",
    "    loss_dict = {\"train\": [], \"val\": []}\n",
    "\n",
    "    # Set up the main tqdm loop for epochs\n",
    "    epochs_tqdm = tqdm(range(nepochs), desc='Training Model')\n",
    "    \n",
    "    # Create DataLoaders for training and validation sets\n",
    "    train_loader = DataLoader(train_data, batch_size=batch_size, shuffle=True)\n",
    "    val_loader = DataLoader(val_data, batch_size=batch_size, shuffle=False)\n",
    "    \n",
    "    for epoch in epochs_tqdm:\n",
    "        model.train()\n",
    "        epoch_loss_sum = 0\n",
    "\n",
    "        # Train loop without tqdm for individual batches\n",
    "        for x_batch, y_batch in train_loader:\n",
    "            y_pred = model(x_batch)\n",
    "            loss = loss_fn(y_pred, y_batch)\n",
    "            epoch_loss_sum += loss.item()\n",
    "            optimizer.zero_grad()\n",
    "            loss.backward()\n",
    "            optimizer.step()\n",
    "\n",
    "        avg_train_loss = epoch_loss_sum / len(train_loader)\n",
    "        loss_dict[\"train\"].append(avg_train_loss)\n",
    "\n",
    "        # Validation loop without tqdm for individual batches\n",
    "        # model.eval()\n",
    "        val_loss_sum = 0\n",
    "        with torch.no_grad():\n",
    "            for x_val, y_val in val_loader:\n",
    "                y_pred = model(x_val)\n",
    "                loss = loss_fn(y_pred, y_val)\n",
    "                val_loss_sum += loss.item()\n",
    "\n",
    "        avg_val_loss = val_loss_sum / len(val_loader)\n",
    "        loss_dict[\"val\"].append(avg_val_loss)\n",
    "        \n",
    "        # Update tqdm bar only once per epoch with the average losses\n",
    "        epochs_tqdm.set_description(f'Epoch {epoch+1}/{nepochs} - Train Loss: {avg_train_loss:.4f} - Val Loss: {avg_val_loss:.4f}')\n",
    "        \n",
    "        if epoch > 10 and mean(loss_dict['val'][-3:]) > mean(loss_dict['val'][-10:-7]):\n",
    "            break\n",
    "        \n",
    "    if plot_result:\n",
    "        plot_losses(loss_dict)\n",
    "            \n",
    "            \n",
    "    return model, loss_dict\n"
   ]
  },
  {
   "cell_type": "code",
   "execution_count": 186,
   "id": "8e28e4f4",
   "metadata": {},
   "outputs": [],
   "source": [
    "# Define model arguments\n",
    "max_epochs = 500\n",
    "lr = 1e-6\n",
    "loss_fn = rmspe"
   ]
  },
  {
   "cell_type": "code",
   "execution_count": 187,
   "id": "9412a52e",
   "metadata": {},
   "outputs": [
    {
     "name": "stderr",
     "output_type": "stream",
     "text": [
      "Epoch 430/500 - Train Loss: 0.9069 - Val Loss: 0.8981:  86%|████████▌ | 429/500 [10:13<01:41,  1.43s/it]\n"
     ]
    },
    {
     "data": {
      "image/png": "[encoded data removed]",
      "text/plain": [
       "<Figure size 640x480 with 1 Axes>"
      ]
     },
     "metadata": {},
     "output_type": "display_data"
    }
   ],
   "source": [
    "model = HydraullicModel().to(device)\n",
    "\n",
    "model, loss_dict = train_model(\n",
    "    train_loader, \n",
    "    val_loader,\n",
    "    model,\n",
    "    nepochs=max_epochs,\n",
    "    lr=lr,\n",
    "    loss_fn=loss_fn,\n",
    "    batch_size=2**4,\n",
    "    plot_result=True\n",
    ")\n"
   ]
  },
  {
   "cell_type": "code",
   "execution_count": 157,
   "id": "6ad67c16",
   "metadata": {},
   "outputs": [
    {
     "name": "stdout",
     "output_type": "stream",
     "text": [
      "Linear(in_features=64, out_features=1, bias=False)\n"
     ]
    }
   ],
   "source": [
    "y_pred = model(torch.tensor(in_test_data, dtype=torch.float32).unsqueeze(1).to(device))\n",
    "print(y_pred)"
   ]
  },
  {
   "cell_type": "code",
   "execution_count": 141,
   "id": "8eff89fa",
   "metadata": {},
   "outputs": [],
   "source": [
    "### GENERATE OUTPUT CSV\n",
    "y_pred = model(torch.tensor(in_test_data, dtype=torch.float32).unsqueeze(1).to(device))\n",
    "y_pred_kag = y_pred.detach().numpy()\n",
    "pd.DataFrame(y_pred_kag).to_csv(\"kaggle_submission.csv\", header=[\"Solution\"], index_label=\"Id\")\n"
   ]
  }
 ],
 "metadata": {
  "kernelspec": {
   "display_name": "Python 3 (ipykernel)",
   "language": "python",
   "name": "python3"
  },
  "language_info": {
   "codemirror_mode": {
    "name": "ipython",
    "version": 3
   },
   "file_extension": ".py",
   "mimetype": "text/x-python",
   "name": "python",
   "nbconvert_exporter": "python",
   "pygments_lexer": "ipython3",
   "version": "3.11.5"
  }
 },
 "nbformat": 4,
 "nbformat_minor": 5
}
