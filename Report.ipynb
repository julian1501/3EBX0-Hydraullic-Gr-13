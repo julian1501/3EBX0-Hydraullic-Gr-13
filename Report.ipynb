{
 "cells": [
  {
   "cell_type": "markdown",
   "id": "15057ba9-6d8b-49bd-956b-b4c40621b00d",
   "metadata": {},
   "source": [
    "# Report Final assignment\n",
    "## 3EBX0 - Machine learning in science\n",
    "## Group 13\n",
    "#### Quincy Salden (1749900), Julian Gootzen (1676512), Sebastiaan Broers (1265091)\n",
    "#### June 1st 2024"
   ]
  },
  {
   "cell_type": "markdown",
   "id": "282ef8c2-88fc-4631-a959-78f254708212",
   "metadata": {},
   "source": [
    "## Table of Contents\n",
    "1. Introduction\n",
    "2. C - Physical dimensions analysis\n",
    "3. D - Symmetry group reflection\n",
    "4. E - Neural network desing and training\n",
    "5. F - Network fitting\n",
    "6. Conclusion"
   ]
  },
  {
   "cell_type": "markdown",
   "id": "1adaa010-7887-41b3-a7cb-59a61c7ef85c",
   "metadata": {},
   "source": [
    "### C - Physical dimensions analysis\n",
    "The input parameters in this problem are the areas of each pixel in $[m^2]$ with an additional information component that the pixel can either be turned open (value=1) or closed (value=0). In total these pixels form a 40x40 square 2D grid/matrix. \n",
    "\n",
    "The output is the Hydraulic Throughput $S$ which has unit $[m^4]$ and is given by $S = μLQ/ΔP$\n",
    "where $μ$ is the dynamic viscosity of the fluid in $[Pa * s]$, \n",
    "$L$ the channel length in $[m]$, $ΔP$ the pressure drop in the channel and $Q$ the volumetric flow rate in $[m^3/s]$.\n",
    "\n",
    "To rescale input parameters and achieve dimensional homogeneity the pixels can be squared or multiplied with one or multiple neighbouring pixels such that the unit is $m^4$.\n",
    "\n",
    "The value of $S$ can vary multiple orders of magnitude. The limiting cases are when all pixels are open or when all are closed. When all are closed, trivially, the value of $S$ is 0. The upper bound can be found by opening all pixels, yielding a value of ... which leads to an output data range of $(0, ..*10^4)$.\n",
    "\n",
    "In this problem multiple symmetries can be identified. Any rotation of 90 degrees leading to 4 equivalent states will not change the value of $S$. Furthermore, flipping the system along the x or y axis will also not change the outcome. Additionally the fact that $S$ is independent of the fluid properties, channel length and pressure drop means that these parameters can fluctuate freely without altering $S$.\n",
    "\n",
    "Since the input data is given as a 40x40 matrix this will imply that flip operations or rotation operations can be used on any of these matrices as desired. \n",
    "\n",
    "\n",
    "​\n"
   ]
  },
  {
   "cell_type": "markdown",
   "id": "a305ffdf-7dcd-4a37-918a-f95049acf2f1",
   "metadata": {},
   "source": [
    "### D - Symmetry group reflection\n",
    "----mathematical formalism summarizing every symmetry---\n",
    "\n",
    "\n",
    "Data augmentation - For data augmentation the rotational symmetry can be used to create three other unique matrices per image, rotated one, two or three times by 90 degrees. This combined with the flip operation leads to 8 unique matrices, excluding all duplicates.\n",
    "\n",
    "Disambiguation - Correct for redundant results. If the result of a calculation is identical to another then the system must recognize this and throw away this data point. This can be captured by including this behavior in the loss function. Furthermore a symmetric net could be applied to all 8 orientations averaged and normalized by taking the sum of all orientations and dividing by 8. This is known as group averaging.\n",
    "\n",
    "Hardwiring - CNN, Convolutional layer, max pooling, dropout, TBD"
   ]
  },
  {
   "cell_type": "markdown",
   "id": "53c6ce18-1775-4adb-ba8d-aff585982bbe",
   "metadata": {},
   "source": [
    "### E - Neural network desing and training\n",
    "..."
   ]
  },
  {
   "cell_type": "markdown",
   "id": "149e632c-536b-469f-b216-5ec59aa36eca",
   "metadata": {},
   "source": [
    "### F - Network fitting\n",
    "In order to protect the network from overtraining the latest validation loss average is compared to an earlier validation loss. For exapmle, in the following training run the average of validation losses from the 3 latest epochs is compared to the average validation loss of 17 to 20 epochs ago. Or in code:"
   ]
  },
  {
   "cell_type": "code",
   "execution_count": null,
   "id": "fd6a9404-6e74-4e24-bf48-e71086607daa",
   "metadata": {},
   "outputs": [],
   "source": [
    "if epoch > 20 and mean_val_loss > mean(loss_dict['val'][-20:-17]):\n",
    "    break"
   ]
  },
  {
   "cell_type": "markdown",
   "id": "a9528c68-6ff4-4558-bf3d-f0a9cf5da246",
   "metadata": {},
   "source": [
    "The condition that the number of epochs should be larger then 20 is in place to prevent errors in the second condition. This condition alone still leaves a possibility for overtraining, since no comparison is made between the training and validation loss. Therefore another condition is added:"
   ]
  },
  {
   "cell_type": "code",
   "execution_count": 3,
   "id": "8020a83e-a25a-459e-992f-01c0cdf6a936",
   "metadata": {},
   "outputs": [
    {
     "ename": "SyntaxError",
     "evalue": "'break' outside loop (4048069654.py, line 2)",
     "output_type": "error",
     "traceback": [
      "\u001b[1;36m  Cell \u001b[1;32mIn[3], line 2\u001b[1;36m\u001b[0m\n\u001b[1;33m    break\u001b[0m\n\u001b[1;37m    ^\u001b[0m\n\u001b[1;31mSyntaxError\u001b[0m\u001b[1;31m:\u001b[0m 'break' outside loop\n"
     ]
    }
   ],
   "source": [
    "if mean_val_loss * 1.05 > mean_train_loss:\n",
    "    break"
   ]
  }
 ],
 "metadata": {
  "kernelspec": {
   "display_name": "Python 3 (ipykernel)",
   "language": "python",
   "name": "python3"
  },
  "language_info": {
   "codemirror_mode": {
    "name": "ipython",
    "version": 3
   },
   "file_extension": ".py",
   "mimetype": "text/x-python",
   "name": "python",
   "nbconvert_exporter": "python",
   "pygments_lexer": "ipython3",
   "version": "3.11.7"
  }
 },
 "nbformat": 4,
 "nbformat_minor": 5
}
